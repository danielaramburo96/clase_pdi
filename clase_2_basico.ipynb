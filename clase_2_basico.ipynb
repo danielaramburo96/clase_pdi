{
  "nbformat": 4,
  "nbformat_minor": 0,
  "metadata": {
    "colab": {
      "name": "clase_2_basico.ipynb",
      "provenance": [],
      "collapsed_sections": [
        "TQnj1g3NiJrF",
        "bX7qh6w5nDaG"
      ],
      "toc_visible": true,
      "authorship_tag": "ABX9TyPgoUh1+4ukG9ChUokfQVsg",
      "include_colab_link": true
    },
    "kernelspec": {
      "name": "python3",
      "display_name": "Python 3"
    }
  },
  "cells": [
    {
      "cell_type": "markdown",
      "metadata": {
        "id": "view-in-github",
        "colab_type": "text"
      },
      "source": [
        "<a href=\"https://colab.research.google.com/github/danielaramburo96/clase_pdi/blob/master/clase_2_basico.ipynb\" target=\"_parent\"><img src=\"https://colab.research.google.com/assets/colab-badge.svg\" alt=\"Open In Colab\"/></a>"
      ]
    },
    {
      "cell_type": "markdown",
      "metadata": {
        "id": "TQnj1g3NiJrF",
        "colab_type": "text"
      },
      "source": [
        "# declarar\n",
        "\n",
        "\n",
        "---\n",
        "\n"
      ]
    },
    {
      "cell_type": "code",
      "metadata": {
        "id": "SESzh-GshZJ0",
        "colab_type": "code",
        "outputId": "0a99f0e0-c460-4947-e81b-13cca7c577bd",
        "colab": {
          "base_uri": "https://localhost:8080/",
          "height": 34
        }
      },
      "source": [
        "x=0\n",
        "print(x)"
      ],
      "execution_count": 0,
      "outputs": [
        {
          "output_type": "stream",
          "text": [
            "0\n"
          ],
          "name": "stdout"
        }
      ]
    },
    {
      "cell_type": "code",
      "metadata": {
        "id": "CuCGlGzplqGo",
        "colab_type": "code",
        "outputId": "26a0c928-6810-4fcf-be53-c05ce10406ea",
        "colab": {
          "base_uri": "https://localhost:8080/",
          "height": 34
        }
      },
      "source": [
        "y=0.0\n",
        "z=True\n",
        "print(y,z)\n"
      ],
      "execution_count": 0,
      "outputs": [
        {
          "output_type": "stream",
          "text": [
            "0.0 True\n"
          ],
          "name": "stdout"
        }
      ]
    },
    {
      "cell_type": "markdown",
      "metadata": {
        "id": "bX7qh6w5nDaG",
        "colab_type": "text"
      },
      "source": [
        "# llamar liberias\n",
        "\n",
        "---\n",
        "\n"
      ]
    },
    {
      "cell_type": "code",
      "metadata": {
        "id": "Ik0WZ1fhmXJk",
        "colab_type": "code",
        "colab": {}
      },
      "source": [
        "import tensorflow\n",
        "import cv2\n"
      ],
      "execution_count": 0,
      "outputs": []
    },
    {
      "cell_type": "markdown",
      "metadata": {
        "id": "rVPPPaRTnYHs",
        "colab_type": "text"
      },
      "source": [
        "# crear funciones (metodos)\n",
        "\n",
        "---\n",
        "\n"
      ]
    },
    {
      "cell_type": "markdown",
      "metadata": {
        "id": "5bxsLwmwnqGj",
        "colab_type": "text"
      },
      "source": [
        "  en el parentesis van los datos de entrada.\n",
        "  pass--> seguir de largo.\n",
        "  continuar-->\n",
        "  breake--> rompe ciclo."
      ]
    },
    {
      "cell_type": "code",
      "metadata": {
        "id": "CJUaGH8hnttE",
        "colab_type": "code",
        "outputId": "3561a955-baff-4036-867b-b6625a855605",
        "colab": {
          "base_uri": "https://localhost:8080/",
          "height": 34
        }
      },
      "source": [
        "def suma (d,w):\n",
        " return d+w\n",
        "suma(2,3)"
      ],
      "execution_count": 0,
      "outputs": [
        {
          "output_type": "execute_result",
          "data": {
            "text/plain": [
              "5"
            ]
          },
          "metadata": {
            "tags": []
          },
          "execution_count": 15
        }
      ]
    },
    {
      "cell_type": "markdown",
      "metadata": {
        "id": "aAzvqUXipYIM",
        "colab_type": "text"
      },
      "source": [
        "no olvidar el \" : \""
      ]
    },
    {
      "cell_type": "code",
      "metadata": {
        "id": "gDxRyfkapXoO",
        "colab_type": "code",
        "outputId": "2b159dc9-6917-4b34-de0e-d44e5ab8a140",
        "colab": {
          "base_uri": "https://localhost:8080/",
          "height": 34
        }
      },
      "source": [
        "def perimetro (l):\n",
        "  return l*4\n",
        "\n",
        "\n",
        "def calcularArea (l):\n",
        "  return l*l\n",
        "\n",
        "def cuadrado(a):\n",
        "  print('el perimetro es-->', perimetro(a),'.','  y el area es-->' , calcularArea(a))\n",
        "cuadrado(3) \n"
      ],
      "execution_count": 0,
      "outputs": [
        {
          "output_type": "stream",
          "text": [
            "el perimetro es--> 12 .   y el area es--> 9\n"
          ],
          "name": "stdout"
        }
      ]
    },
    {
      "cell_type": "markdown",
      "metadata": {
        "id": "HmWgc2Hp3DxB",
        "colab_type": "text"
      },
      "source": [
        "---\n",
        "\n",
        "#LISTAS"
      ]
    },
    {
      "cell_type": "code",
      "metadata": {
        "id": "RA8Y1sMyrmRQ",
        "colab_type": "code",
        "colab": {
          "base_uri": "https://localhost:8080/",
          "height": 34
        },
        "outputId": "e204a9f2-f9d9-4616-862d-a1d8a6263594"
      },
      "source": [
        "x=[1,2,3,4,5]\n",
        "x.append(6) #append introduce el valor del parentesis en la ultima posicion de la lista.\n",
        "x.append(7)\n",
        "print(x)\n",
        "#remove --> borra el numero de la posicion\n",
        "#del--> borra la posicion"
      ],
      "execution_count": 45,
      "outputs": [
        {
          "output_type": "stream",
          "text": [
            "[1, 2, 3, 4, 5, 6, 7]\n"
          ],
          "name": "stdout"
        }
      ]
    },
    {
      "cell_type": "markdown",
      "metadata": {
        "id": "_8V414OK39mh",
        "colab_type": "text"
      },
      "source": [
        "# CLASES"
      ]
    },
    {
      "cell_type": "code",
      "metadata": {
        "id": "V7l3XyXo69Cq",
        "colab_type": "code",
        "colab": {}
      },
      "source": [
        "class nombre_clase():\n",
        "  def __init__(self,...):\n",
        "\n",
        "  if conticion==true:\n",
        "    self.roi\n",
        "  #init--> funciona como el contructor de la clase\n",
        "  #contenido de toda la clase creada...\n",
        "  #self--> variable que esta en todos los metodos de una clase. "
      ],
      "execution_count": 0,
      "outputs": []
    },
    {
      "cell_type": "markdown",
      "metadata": {
        "id": "2G2YRxlg-QsZ",
        "colab_type": "text"
      },
      "source": [
        "# MAIN DE LA CLASE\n",
        "\n"
      ]
    },
    {
      "cell_type": "code",
      "metadata": {
        "id": "9p9yxTUQ-Swn",
        "colab_type": "code",
        "colab": {}
      },
      "source": [
        "if __nombre_clase__ =\"main\":\n",
        "  # llamar metodos y vriables que esten en el INIT\n",
        "  "
      ],
      "execution_count": 0,
      "outputs": []
    }
  ]
}